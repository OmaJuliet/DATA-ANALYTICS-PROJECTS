{
 "cells": [
  {
   "cell_type": "code",
   "execution_count": 1,
   "id": "4bfdbdc0-4cf7-4043-ae14-b01931a69c5b",
   "metadata": {},
   "outputs": [
    {
     "name": "stdout",
     "output_type": "stream",
     "text": [
      "<class 'pandas.core.frame.DataFrame'>\n",
      "RangeIndex: 221 entries, 0 to 220\n",
      "Data columns (total 7 columns):\n",
      " #   Column          Non-Null Count  Dtype  \n",
      "---  ------          --------------  -----  \n",
      " 0   country_name    221 non-null    object \n",
      " 1   continent_name  221 non-null    object \n",
      " 2   wage_span       221 non-null    object \n",
      " 3   median_salary   221 non-null    float64\n",
      " 4   average_salary  221 non-null    float64\n",
      " 5   lowest_salary   221 non-null    float64\n",
      " 6   highest_salary  221 non-null    float64\n",
      "dtypes: float64(4), object(3)\n",
      "memory usage: 12.2+ KB\n",
      "None\n",
      "       median_salary  average_salary  lowest_salary  highest_salary\n",
      "count     221.000000      221.000000     221.000000      221.000000\n",
      "mean     1762.631906     1982.339812     502.783204     8802.165619\n",
      "std      1634.708716     1835.429193     470.073328     8140.210641\n",
      "min         0.261335        0.285524       0.072092        1.271103\n",
      "25%       567.210000      651.000000     163.930000     2900.480000\n",
      "50%      1227.460000     1344.230000     339.450000     5974.360000\n",
      "75%      2389.010000     2740.000000     690.000000    12050.740000\n",
      "max      9836.070000    11292.900000    2850.270000    50363.930000\n"
     ]
    }
   ],
   "source": [
    "import pandas as pd\n",
    "\n",
    "# Load the dataset\n",
    "df = pd.read_csv('global_salary_data.csv')\n",
    "\n",
    "# Basic information about the dataset\n",
    "print(df.info())\n",
    "print(df.describe())\n"
   ]
  },
  {
   "cell_type": "code",
   "execution_count": 2,
   "id": "f4630c4a-1daf-4a2d-bd99-45fcb1653b90",
   "metadata": {},
   "outputs": [
    {
     "name": "stdout",
     "output_type": "stream",
     "text": [
      "Index(['country_name', 'continent_name', 'wage_span', 'median_salary',\n",
      "       'average_salary', 'lowest_salary', 'highest_salary'],\n",
      "      dtype='object')\n"
     ]
    }
   ],
   "source": [
    "# Print column names to verify\n",
    "print(df.columns)"
   ]
  },
  {
   "cell_type": "code",
   "execution_count": 3,
   "id": "a8822204-4688-4f93-8b7d-f7e490dc5870",
   "metadata": {},
   "outputs": [
    {
     "name": "stdout",
     "output_type": "stream",
     "text": [
      "New column names: Index(['Country', 'Continent', 'Wage_Span', 'Median_Salary', 'Average_Salary',\n",
      "       'Lowest_Salary', 'Highest_Salary'],\n",
      "      dtype='object')\n"
     ]
    }
   ],
   "source": [
    "# DATA CLEANING\n",
    "\n",
    "# Rename columns for consistency and readability\n",
    "df.rename(columns={\n",
    "    'country_name': 'Country',\n",
    "    'continent_name': 'Continent',\n",
    "    'wage_span': 'Wage_Span',\n",
    "    'median_salary': 'Median_Salary',\n",
    "    'average_salary': 'Average_Salary',\n",
    "    'lowest_salary': 'Lowest_Salary',\n",
    "    'highest_salary': 'Highest_Salary'\n",
    "}, inplace=True)\n",
    "\n",
    "print(\"New column names:\", df.columns)"
   ]
  },
  {
   "cell_type": "code",
   "execution_count": 4,
   "id": "7b213342-6b4d-46f9-b5b9-79739ecab6a7",
   "metadata": {},
   "outputs": [
    {
     "name": "stdout",
     "output_type": "stream",
     "text": [
      "Country           0\n",
      "Continent         0\n",
      "Wage_Span         0\n",
      "Median_Salary     0\n",
      "Average_Salary    0\n",
      "Lowest_Salary     0\n",
      "Highest_Salary    0\n",
      "dtype: int64\n"
     ]
    }
   ],
   "source": [
    "# Check for any missing value in the columns\n",
    "\n",
    "print(df.isnull().sum())"
   ]
  },
  {
   "cell_type": "code",
   "execution_count": 5,
   "id": "028951a4-7e5a-44b4-b98f-c8e53a15283d",
   "metadata": {},
   "outputs": [
    {
     "name": "stdout",
     "output_type": "stream",
     "text": [
      "(221, 7)\n"
     ]
    }
   ],
   "source": [
    "# Check how many elements the data has\n",
    "\n",
    "print(df.shape)"
   ]
  },
  {
   "cell_type": "code",
   "execution_count": 7,
   "id": "d66b613f-17bc-4dae-ae3e-eb89d2a419d6",
   "metadata": {},
   "outputs": [
    {
     "name": "stdout",
     "output_type": "stream",
     "text": [
      "               Country      Continent Wage_Span  Median_Salary  \\\n",
      "0          Afghanistan           Asia   Monthly         853.74   \n",
      "1        Aland Islands         Europe   Monthly        3319.24   \n",
      "2              Albania         Europe   Monthly         832.84   \n",
      "3              Algeria         Africa   Monthly        1148.84   \n",
      "4       American Samoa        Oceania   Monthly        1390.00   \n",
      "5              Andorra         Europe   Monthly        3668.08   \n",
      "6               Angola         Africa   Monthly         284.39   \n",
      "7  Antigua and Barbuda      Caribbean   Monthly        1548.15   \n",
      "8            Argentina  South America   Monthly         110.28   \n",
      "9              Armenia           Asia   Monthly        1700.25   \n",
      "\n",
      "   Average_Salary  Lowest_Salary  Highest_Salary  \n",
      "0         1001.15         252.53         4460.97  \n",
      "1         3858.35         972.52        17124.74  \n",
      "2          956.92         241.22         4258.49  \n",
      "3         1308.81         330.11         5824.18  \n",
      "4         1570.00         400.00         6980.00  \n",
      "5         4069.77        1120.51        17653.28  \n",
      "6          314.39          79.32         1403.96  \n",
      "7         1677.78         422.22         7444.44  \n",
      "8          129.42          32.57          577.13  \n",
      "9         1974.32         497.39         8780.39  \n"
     ]
    }
   ],
   "source": [
    "# Confirm data entries by printing the first 10 rows/elements\n",
    "\n",
    "print(df.head(10))"
   ]
  },
  {
   "cell_type": "code",
   "execution_count": 8,
   "id": "eea00749-2ba5-4d4a-b183-fa3705aaa939",
   "metadata": {},
   "outputs": [
    {
     "name": "stdout",
     "output_type": "stream",
     "text": [
      "Unique continents: 9\n",
      "Unique countries: 221\n",
      "Total number of continents: 9\n",
      "Total number of countries: 221\n"
     ]
    }
   ],
   "source": [
    "# DATA EXPLORATION\n",
    "\n",
    "# Validate unique continents and countries\n",
    "unique_continents = df['Continent'].unique()\n",
    "unique_countries = df['Country'].unique()\n",
    "\n",
    "print(f\"Unique continents: {len(unique_continents)}\")\n",
    "print(f\"Unique countries: {len(unique_countries)}\")\n",
    "\n",
    "\n",
    "# Check for total number of countries and continents in the data table\n",
    "total_continents = len(unique_continents)\n",
    "total_countries = len(unique_countries)\n",
    "\n",
    "print(f\"Total number of continents: {total_continents}\")\n",
    "print(f\"Total number of countries: {total_countries}\")"
   ]
  },
  {
   "cell_type": "code",
   "execution_count": 21,
   "id": "fa62620f-e7d9-4579-873c-7cec37468e5c",
   "metadata": {},
   "outputs": [
    {
     "name": "stdout",
     "output_type": "stream",
     "text": [
      "Top 10 countries with highest average salary:\n",
      " Country\n",
      "Switzerland       11292.90\n",
      "Guernsey           9409.76\n",
      "United States      7925.00\n",
      "Canada             7352.94\n",
      "United Kingdom     7235.37\n",
      "Belgium            6522.20\n",
      "Jersey             6304.88\n",
      "Singapore          6235.29\n",
      "Liechtenstein      5825.14\n",
      "Denmark            5779.04\n",
      "Name: Average_Salary, dtype: float64\n",
      "Top 5 countries with highest salary earned globally:\n",
      " Country\n",
      "Switzerland       50363.93\n",
      "Guernsey          41869.51\n",
      "United States     35250.00\n",
      "Canada            32720.59\n",
      "United Kingdom    32214.63\n",
      "Name: Highest_Salary, dtype: float64\n",
      "Top 5 countries with lowest salary earned globally:\n",
      " Country\n",
      "Zambia         0.072092\n",
      "Syria          2.900000\n",
      "Mauritania    13.203171\n",
      "Sudan         18.800000\n",
      "Uzbekistan    27.070000\n",
      "Name: Lowest_Salary, dtype: float64\n"
     ]
    }
   ],
   "source": [
    "# Countries with the highest average salary\n",
    "top_countries_average_salary = df.groupby('Country')['Average_Salary'].sum().sort_values(ascending=False).head(10)\n",
    "print(\"Top 10 countries with highest average salary:\\n\", top_countries_average_salary)\n",
    "\n",
    "# Countries with the highest salary\n",
    "top_countries_highest_salary = df.groupby('Country')['Highest_Salary'].sum().sort_values(ascending=False).head(5)\n",
    "print(\"Top 5 countries with highest salary earned globally:\\n\", top_countries_highest_salary)\n",
    "\n",
    "# Countries with the lowest salary\n",
    "top_countries_lowest_salary = df.groupby('Country')['Lowest_Salary'].sum().sort_values(ascending=True).head(5)\n",
    "print(\"Top 5 countries with lowest salary earned globally:\\n\", top_countries_lowest_salary)"
   ]
  },
  {
   "cell_type": "code",
   "execution_count": 9,
   "id": "1ace9ad2-77f4-4565-bae0-2323d3b8bf5e",
   "metadata": {},
   "outputs": [
    {
     "name": "stdout",
     "output_type": "stream",
     "text": [
      "       Median_Salary  Average_Salary  Lowest_Salary  Highest_Salary\n",
      "count     221.000000      221.000000     221.000000      221.000000\n",
      "mean     1762.631906     1982.339812     502.783204     8802.165619\n",
      "std      1634.708716     1835.429193     470.073328     8140.210641\n",
      "min         0.261335        0.285524       0.072092        1.271103\n",
      "25%       567.210000      651.000000     163.930000     2900.480000\n",
      "50%      1227.460000     1344.230000     339.450000     5974.360000\n",
      "75%      2389.010000     2740.000000     690.000000    12050.740000\n",
      "max      9836.070000    11292.900000    2850.270000    50363.930000\n"
     ]
    }
   ],
   "source": [
    "# DATA ANALYSIS\n",
    "\n",
    "# Descriptive analysis: Summary statistics\n",
    "summary_statistics = df.describe()\n",
    "print(summary_statistics)"
   ]
  },
  {
   "cell_type": "code",
   "execution_count": 17,
   "id": "b1aca8fc-d337-4f02-afff-e341fba7fd12",
   "metadata": {},
   "outputs": [
    {
     "name": "stdout",
     "output_type": "stream",
     "text": [
      "Continent\n",
      "Northern America    5221.610000\n",
      "Europe              3576.279912\n",
      "North America       2647.316667\n",
      "Oceania             1946.011667\n",
      "Central America     1892.721250\n",
      "Asia                1727.657722\n",
      "Caribbean           1617.098333\n",
      "South America       1526.053077\n",
      "Africa               772.719863\n",
      "Name: Average_Salary, dtype: float64\n"
     ]
    }
   ],
   "source": [
    "# Comparative analysis to compare salaries across continents\n",
    "\n",
    "average_salary_by_continent = df.groupby('Continent')['Average_Salary'].mean().sort_values(ascending=False)\n",
    "print(average_salary_by_continent)"
   ]
  },
  {
   "cell_type": "code",
   "execution_count": 23,
   "id": "4687a15f-4b13-42d7-8be5-5d6d719b86bf",
   "metadata": {},
   "outputs": [
    {
     "name": "stdout",
     "output_type": "stream",
     "text": [
      "Top 5 countries with highest average salary:\n",
      "            Country         Continent Wage_Span  Median_Salary  \\\n",
      "192     Switzerland            Europe   Monthly        9836.07   \n",
      "83         Guernsey            Europe   Monthly        8689.02   \n",
      "209   United States  Northern America   Monthly        6966.00   \n",
      "35           Canada  Northern America   Monthly        6311.03   \n",
      "208  United Kingdom            Europe   Monthly        6300.00   \n",
      "\n",
      "     Average_Salary  Lowest_Salary  Highest_Salary  \n",
      "192        11292.90        2850.27        50363.93  \n",
      "83          9409.76        2367.07        41869.51  \n",
      "209         7925.00        2000.00        35250.00  \n",
      "35          7352.94        1850.00        32720.59  \n",
      "208         7235.37        1829.27        32214.63  \n",
      "Top 5 countries with lowest average salary:\n",
      "        Country Continent Wage_Span  Median_Salary  Average_Salary  \\\n",
      "219      Zambia    Africa   Monthly       0.261335        0.285524   \n",
      "193       Syria      Asia   Monthly      10.120000       11.510000   \n",
      "127  Mauritania    Africa   Monthly      44.623043       52.497697   \n",
      "188       Sudan    Africa   Monthly      67.610000       74.530000   \n",
      "211  Uzbekistan      Asia   Monthly      97.250000      106.980000   \n",
      "\n",
      "     Lowest_Salary  Highest_Salary  \n",
      "219       0.072092        1.271103  \n",
      "193       2.900000       51.200000  \n",
      "127      13.203171      232.827290  \n",
      "188      18.800000      331.920000  \n",
      "211      27.070000      477.350000  \n"
     ]
    }
   ],
   "source": [
    "# Prescriptive analysis: Identifying countries with highest and lowest salaries\n",
    "\n",
    "top_5_countries_highest_salary = df.nlargest(5, 'Average_Salary')\n",
    "top_5_countries_lowest_salary = df.nsmallest(5, 'Average_Salary')\n",
    "\n",
    "print(\"Top 5 countries with highest average salary:\")\n",
    "print(top_5_countries_highest_salary)\n",
    "\n",
    "print(\"Top 5 countries with lowest average salary:\")\n",
    "print(top_5_countries_lowest_salary)"
   ]
  },
  {
   "cell_type": "code",
   "execution_count": 24,
   "id": "88c2489c-d2ca-4dd7-92ba-314c9edf90be",
   "metadata": {},
   "outputs": [],
   "source": [
    "# Save DataFrame to Excel\n",
    "\n",
    "df.to_excel('cleaned_global_salary_data.xlsx', index=False)"
   ]
  },
  {
   "cell_type": "code",
   "execution_count": null,
   "id": "ec211562-67d0-447e-be1e-5a21c797951d",
   "metadata": {},
   "outputs": [],
   "source": []
  }
 ],
 "metadata": {
  "kernelspec": {
   "display_name": "Python 3 (ipykernel)",
   "language": "python",
   "name": "python3"
  },
  "language_info": {
   "codemirror_mode": {
    "name": "ipython",
    "version": 3
   },
   "file_extension": ".py",
   "mimetype": "text/x-python",
   "name": "python",
   "nbconvert_exporter": "python",
   "pygments_lexer": "ipython3",
   "version": "3.11.5"
  }
 },
 "nbformat": 4,
 "nbformat_minor": 5
}
